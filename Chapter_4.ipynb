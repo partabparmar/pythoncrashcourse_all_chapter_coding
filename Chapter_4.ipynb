{
 "cells": [
  {
   "cell_type": "markdown",
   "id": "e34108c0",
   "metadata": {},
   "source": [
    "# 4.1"
   ]
  },
  {
   "cell_type": "code",
   "execution_count": 5,
   "id": "4f82dc96",
   "metadata": {},
   "outputs": [
    {
     "name": "stdout",
     "output_type": "stream",
     "text": [
      "i like chicken-piza\n",
      "i like careemy_pizza\n",
      "i like large_pizza\n",
      "pizza was so tasty,enjoy lot i really love pizza\n"
     ]
    }
   ],
   "source": [
    "fav_pizza=['chicken-piza','careemy_pizza','large_pizza']\n",
    "\n",
    "for i in fav_pizza:\n",
    "    print(f\"i like {i}\")\n",
    "    \n",
    "    \n",
    "print(\"pizza was so tasty,enjoy lot i really love pizza\")"
   ]
  },
  {
   "cell_type": "markdown",
   "id": "a32b15c5",
   "metadata": {},
   "source": [
    "# 4.2"
   ]
  },
  {
   "cell_type": "code",
   "execution_count": 8,
   "id": "793efce9",
   "metadata": {},
   "outputs": [
    {
     "name": "stdout",
     "output_type": "stream",
     "text": [
      "A dog would make a great pet\n",
      "A cat would make a great pet\n",
      "A peacock would make a great pet\n",
      "s Any of these animals would make a great pet!\n"
     ]
    }
   ],
   "source": [
    "animals=['dog','cat','peacock']\n",
    "\n",
    "for i in animals:\n",
    "    print(f\"A {i} would make a great pet\")\n",
    "    \n",
    "    \n",
    "print(\"s Any of these animals would make a great pet!\")"
   ]
  },
  {
   "cell_type": "markdown",
   "id": "fd4eb7c7",
   "metadata": {},
   "source": [
    "# 4.3"
   ]
  },
  {
   "cell_type": "code",
   "execution_count": 18,
   "id": "9a56fb83",
   "metadata": {},
   "outputs": [
    {
     "name": "stdout",
     "output_type": "stream",
     "text": [
      "1\n",
      "2\n",
      "3\n",
      "4\n",
      "5\n",
      "6\n",
      "7\n",
      "8\n",
      "9\n",
      "10\n",
      "11\n",
      "12\n",
      "13\n",
      "14\n",
      "15\n",
      "16\n",
      "17\n",
      "18\n",
      "19\n",
      "20\n"
     ]
    }
   ],
   "source": [
    "for i in range(1,21):\n",
    "    print(i)"
   ]
  },
  {
   "cell_type": "code",
   "execution_count": 20,
   "id": "e69c75c0",
   "metadata": {},
   "outputs": [
    {
     "ename": "SyntaxError",
     "evalue": "invalid syntax (3936184847.py, line 3)",
     "output_type": "error",
     "traceback": [
      "\u001b[1;36m  Input \u001b[1;32mIn [20]\u001b[1;36m\u001b[0m\n\u001b[1;33m    if(press='c'):\u001b[0m\n\u001b[1;37m            ^\u001b[0m\n\u001b[1;31mSyntaxError\u001b[0m\u001b[1;31m:\u001b[0m invalid syntax\n"
     ]
    }
   ],
   "source": [
    "\n",
    "for i in range(1,1000000):\n",
    "    if(press='c'):\n",
    "        break\n",
    "    print(i)"
   ]
  },
  {
   "cell_type": "code",
   "execution_count": 17,
   "id": "0e000af0",
   "metadata": {},
   "outputs": [
    {
     "name": "stdout",
     "output_type": "stream",
     "text": [
      "odd num are = 1\n",
      "odd num are = 3\n",
      "odd num are = 5\n",
      "odd num are = 7\n",
      "odd num are = 9\n",
      "odd num are = 11\n",
      "odd num are = 13\n",
      "odd num are = 15\n",
      "odd num are = 17\n",
      "odd num are = 19\n"
     ]
    }
   ],
   "source": [
    "for i in range(1,21):\n",
    "    if i%2!=0:\n",
    "        print(f\"odd num are = {i}\")"
   ]
  },
  {
   "cell_type": "code",
   "execution_count": null,
   "id": "46ff45fd",
   "metadata": {},
   "outputs": [],
   "source": []
  },
  {
   "cell_type": "code",
   "execution_count": 22,
   "id": "ebb2286c",
   "metadata": {},
   "outputs": [],
   "source": [
    "multiby_3=[]\n",
    "\n",
    "for i in range(3,31):\n",
    "    if i%3==0:\n",
    "        multiby_3.append(i)\n",
    "       \n",
    " \n",
    "\n",
    "multiby_3"
   ]
  },
  {
   "cell_type": "code",
   "execution_count": null,
   "id": "73db5596",
   "metadata": {},
   "outputs": [],
   "source": []
  },
  {
   "cell_type": "code",
   "execution_count": 23,
   "id": "ec8752d8",
   "metadata": {},
   "outputs": [
    {
     "data": {
      "text/plain": [
       "[1, 8, 27, 64, 125, 216, 343, 512, 729, 1000]"
      ]
     },
     "execution_count": 23,
     "metadata": {},
     "output_type": "execute_result"
    }
   ],
   "source": [
    "cubes=[]\n",
    "for i in range(1,11):\n",
    "    cubes.append(i**3)\n",
    "    \n",
    "cubes    "
   ]
  },
  {
   "cell_type": "code",
   "execution_count": null,
   "id": "cc098ab4",
   "metadata": {},
   "outputs": [],
   "source": []
  },
  {
   "cell_type": "markdown",
   "id": "2ca49a74",
   "metadata": {},
   "source": [
    "# 4.10"
   ]
  },
  {
   "cell_type": "code",
   "execution_count": 32,
   "id": "4e759fc9",
   "metadata": {},
   "outputs": [
    {
     "name": "stdout",
     "output_type": "stream",
     "text": [
      "['apple', 'bannana', 'orange']\n",
      "['bannana', 'orange', 'peanut']\n"
     ]
    },
    {
     "data": {
      "text/plain": [
       "['orange', 'peanut', 'mango']"
      ]
     },
     "execution_count": 32,
     "metadata": {},
     "output_type": "execute_result"
    }
   ],
   "source": [
    "a_list=['apple','bannana','orange','peanut','mango',]\n",
    "\n",
    "\n",
    "print(a_list[0:3])\n",
    "\n",
    "\n",
    "print(a_list[1:4])\n",
    "\n",
    "a_list[2:]"
   ]
  },
  {
   "cell_type": "markdown",
   "id": "afb12a68",
   "metadata": {},
   "source": [
    "# 4.11"
   ]
  },
  {
   "cell_type": "code",
   "execution_count": 36,
   "id": "c0cf30dc",
   "metadata": {},
   "outputs": [
    {
     "data": {
      "text/plain": [
       "['chicken-piza', 'careemy_pizza', 'large_pizza']"
      ]
     },
     "execution_count": 36,
     "metadata": {},
     "output_type": "execute_result"
    }
   ],
   "source": [
    "fav_pizza=['chicken-piza','careemy_pizza','large_pizza']\n",
    "\n",
    "freind_pizza=fav_pizza[:]\n",
    "\n",
    "freind_pizza"
   ]
  },
  {
   "cell_type": "code",
   "execution_count": 37,
   "id": "a712bf2c",
   "metadata": {},
   "outputs": [
    {
     "data": {
      "text/plain": [
       "['chicken-piza', 'careemy_pizza', 'large_pizza', 'pepponary pizza']"
      ]
     },
     "execution_count": 37,
     "metadata": {},
     "output_type": "execute_result"
    }
   ],
   "source": [
    "fav_pizza.append('pepponary pizza')\n",
    "fav_pizza\n"
   ]
  },
  {
   "cell_type": "code",
   "execution_count": 38,
   "id": "1a1cb962",
   "metadata": {},
   "outputs": [
    {
     "data": {
      "text/plain": [
       "['chicken-piza', 'careemy_pizza', 'large_pizza', 'mutton_pizza']"
      ]
     },
     "execution_count": 38,
     "metadata": {},
     "output_type": "execute_result"
    }
   ],
   "source": [
    "freind_pizza.append('mutton_pizza')\n",
    "freind_pizza"
   ]
  },
  {
   "cell_type": "code",
   "execution_count": 47,
   "id": "d39feac9",
   "metadata": {},
   "outputs": [
    {
     "name": "stdout",
     "output_type": "stream",
     "text": [
      " it has two list  chicken-piza \n",
      " it has two list  careemy_pizza \n",
      " it has two list  large_pizza \n",
      " it has two list  pepponary pizza \n"
     ]
    }
   ],
   "source": [
    "for i in fav_pizza:\n",
    "    print(f\" it has two list  {i} \")\n",
    "        "
   ]
  },
  {
   "cell_type": "code",
   "execution_count": 48,
   "id": "c2e8083e",
   "metadata": {},
   "outputs": [
    {
     "name": "stdout",
     "output_type": "stream",
     "text": [
      " it has two list  chicken-piza \n",
      " it has two list  careemy_pizza \n",
      " it has two list  large_pizza \n",
      " it has two list  mutton_pizza \n"
     ]
    }
   ],
   "source": [
    "for i in freind_pizza:\n",
    "    print(f\" it has two list  {i} \")"
   ]
  },
  {
   "cell_type": "markdown",
   "id": "9e92f4a0",
   "metadata": {},
   "source": [
    "# 4.13"
   ]
  },
  {
   "cell_type": "code",
   "execution_count": 55,
   "id": "a6a5c923",
   "metadata": {},
   "outputs": [
    {
     "name": "stdout",
     "output_type": "stream",
     "text": [
      "Seel Bhaji\n",
      "Dhoda Palli\n",
      "Sai Bhaji\n",
      "Sindhi Biryani\n",
      "Bheeya Ji Tikki\n"
     ]
    }
   ],
   "source": [
    "rest_offer=('Seel Bhaji','Dhoda Palli','Sai Bhaji','Sindhi Biryani','Bheeya Ji Tikki')\n",
    "\n",
    "for i in rest_offer:\n",
    "    print(i)"
   ]
  },
  {
   "cell_type": "code",
   "execution_count": 50,
   "id": "02a3ac70",
   "metadata": {},
   "outputs": [
    {
     "ename": "TypeError",
     "evalue": "'tuple' object does not support item assignment",
     "output_type": "error",
     "traceback": [
      "\u001b[1;31m---------------------------------------------------------------------------\u001b[0m",
      "\u001b[1;31mTypeError\u001b[0m                                 Traceback (most recent call last)",
      "Input \u001b[1;32mIn [50]\u001b[0m, in \u001b[0;36m<cell line: 1>\u001b[1;34m()\u001b[0m\n\u001b[1;32m----> 1\u001b[0m rest_offer[\u001b[38;5;241m1\u001b[39m]\u001b[38;5;241m=\u001b[39m\u001b[38;5;124m'\u001b[39m\u001b[38;5;124mchicken_biryani\u001b[39m\u001b[38;5;124m'\u001b[39m\n",
      "\u001b[1;31mTypeError\u001b[0m: 'tuple' object does not support item assignment"
     ]
    }
   ],
   "source": [
    "rest_offer[1]='chicken_biryani'"
   ]
  },
  {
   "cell_type": "code",
   "execution_count": 59,
   "id": "5086951f",
   "metadata": {},
   "outputs": [
    {
     "name": "stdout",
     "output_type": "stream",
     "text": [
      "('green vegetables', 'Dhoda Palli', 'bharta', 'Sindhi Biryani', 'Bheeya Ji Tikki')\n"
     ]
    }
   ],
   "source": [
    "menu=list(tuple(rest_offer))\n",
    "menu\n",
    "\n",
    "menu[0]='green vegetables'\n",
    "menu[2]='bharta'\n",
    "\n",
    "print(tuple(list(menu)))"
   ]
  },
  {
   "cell_type": "code",
   "execution_count": null,
   "id": "956f170b",
   "metadata": {},
   "outputs": [],
   "source": []
  }
 ],
 "metadata": {
  "kernelspec": {
   "display_name": "Python 3 (ipykernel)",
   "language": "python",
   "name": "python3"
  },
  "language_info": {
   "codemirror_mode": {
    "name": "ipython",
    "version": 3
   },
   "file_extension": ".py",
   "mimetype": "text/x-python",
   "name": "python",
   "nbconvert_exporter": "python",
   "pygments_lexer": "ipython3",
   "version": "3.9.12"
  }
 },
 "nbformat": 4,
 "nbformat_minor": 5
}
