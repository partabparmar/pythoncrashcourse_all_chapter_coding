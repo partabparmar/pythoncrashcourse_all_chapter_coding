{
 "cells": [
  {
   "cell_type": "markdown",
   "id": "f6608108",
   "metadata": {},
   "source": [
    "# 3.1"
   ]
  },
  {
   "cell_type": "code",
   "execution_count": 3,
   "id": "b088255d",
   "metadata": {},
   "outputs": [
    {
     "name": "stdout",
     "output_type": "stream",
     "text": [
      "Ahmed\n",
      "salim\n",
      "Ajeet\n",
      "Dilkash\n"
     ]
    }
   ],
   "source": [
    "names=['Ahmed','salim','Ajeet','Dilkash']\n",
    "\n",
    "print(names[0])\n",
    "print(names[1])\n",
    "print(names[2])\n",
    "print(names[3])"
   ]
  },
  {
   "cell_type": "markdown",
   "id": "35349d4e",
   "metadata": {},
   "source": [
    "# 3.2"
   ]
  },
  {
   "cell_type": "code",
   "execution_count": 8,
   "id": "c03c7de5",
   "metadata": {},
   "outputs": [
    {
     "name": "stdout",
     "output_type": "stream",
     "text": [
      "hello Ahmed,You are selected in ubit in CS dept\n",
      "hello salim,You are selected in UOK in electronics dept\n",
      "hello Ajeet,You are selected in UOK in English dept\n",
      "hello Dilkash,You are selected in UOK in Physics dept\n"
     ]
    }
   ],
   "source": [
    "names=['Ahmed','salim','Ajeet','Dilkash']\n",
    "\n",
    "\n",
    "mess=f\"hello {names[0]},You are selected in ubit in CS dept\"\n",
    "print(mess)\n",
    "\n",
    "mess=f\"hello {names[1]},You are selected in UOK in electronics dept\"\n",
    "print(mess)\n",
    "\n",
    "mess=f\"hello {names[2]},You are selected in UOK in English dept\"\n",
    "print(mess)\n",
    "\n",
    "\n",
    "mess=f\"hello {names[3]},You are selected in UOK in Physics dept\"\n",
    "print(mess)"
   ]
  },
  {
   "cell_type": "markdown",
   "id": "3af91331",
   "metadata": {},
   "source": [
    "# 3.3"
   ]
  },
  {
   "cell_type": "code",
   "execution_count": 11,
   "id": "7e1ac1ed",
   "metadata": {},
   "outputs": [
    {
     "name": "stdout",
     "output_type": "stream",
     "text": [
      "Motors are likely used in pakistan and increase day by day peoples choice cars,BMW is my fav cars\n",
      "mehran are cheepest cars used in pakistan\n"
     ]
    }
   ],
   "source": [
    "own_list=['Motors','cars','alto vxr','cultus','BMW','mehran']\n",
    "\n",
    "\n",
    "print(f\"{own_list[0]} are likely used in pakistan and increase day by day peoples choice {own_list[1]},{own_list[-2]} is my fav {own_list[1]}\")\n",
    "print(f\"{own_list[-1]} are cheepest {own_list[1]} used in pakistan\")"
   ]
  },
  {
   "cell_type": "markdown",
   "id": "dca8deba",
   "metadata": {},
   "source": [
    "# 3.4"
   ]
  },
  {
   "cell_type": "code",
   "execution_count": 5,
   "id": "30d08630",
   "metadata": {},
   "outputs": [
    {
     "name": "stdout",
     "output_type": "stream",
     "text": [
      "hello Elon musk, i invite to dinner\n",
      "hello Mark,i invite to dinner\n",
      "hello Nasir Hussain,i invite to dinner\n"
     ]
    }
   ],
   "source": [
    "guest_list=['Elon musk','Mark','Nasir Hussain']\n",
    "\n",
    "\n",
    "mess=f\"hello {guest_list[0]}, i invite to dinner\"\n",
    "print(mess)\n",
    "\n",
    "mess=f\"hello {guest_list[1]},i invite to dinner\"\n",
    "print(mess)\n",
    "\n",
    "mess=f\"hello {guest_list[2]},i invite to dinner\"\n",
    "print(mess)"
   ]
  },
  {
   "cell_type": "markdown",
   "id": "ee9f03c3",
   "metadata": {},
   "source": [
    "# 3.5(1)"
   ]
  },
  {
   "cell_type": "code",
   "execution_count": 6,
   "id": "ddc70be2",
   "metadata": {},
   "outputs": [
    {
     "name": "stdout",
     "output_type": "stream",
     "text": [
      "Elon musk i did not come on dinner,sorry\n"
     ]
    }
   ],
   "source": [
    "guest_list=['Elon musk','Mark','Nasir Hussain']\n",
    "\n",
    "print(f\"{guest_list.pop(0)} i did not come on dinner,sorry\")"
   ]
  },
  {
   "cell_type": "markdown",
   "id": "70a653d4",
   "metadata": {},
   "source": [
    "# 3.5(2)"
   ]
  },
  {
   "cell_type": "code",
   "execution_count": 7,
   "id": "433654b5",
   "metadata": {},
   "outputs": [
    {
     "data": {
      "text/plain": [
       "['Bill gates', 'Mark', 'Nasir Hussain']"
      ]
     },
     "execution_count": 7,
     "metadata": {},
     "output_type": "execute_result"
    }
   ],
   "source": [
    "guest_list=['Elon musk','Mark','Nasir Hussain']\n",
    "\n",
    "guest_list[0]='Bill gates'\n",
    "guest_list"
   ]
  },
  {
   "cell_type": "markdown",
   "id": "bc6fdcdd",
   "metadata": {},
   "source": [
    "# 3.5(3)"
   ]
  },
  {
   "cell_type": "code",
   "execution_count": 8,
   "id": "1ed2a513",
   "metadata": {},
   "outputs": [
    {
     "name": "stdout",
     "output_type": "stream",
     "text": [
      "hello Bill gates, i invite to dinner\n",
      "hello Mark,i invite to dinner\n",
      "hello Nasir Hussain,i invite to dinner\n"
     ]
    }
   ],
   "source": [
    "guest_list\n",
    "\n",
    "mess=f\"hello {guest_list[0]}, i invite to dinner\"\n",
    "print(mess)\n",
    "\n",
    "mess=f\"hello {guest_list[1]},i invite to dinner\"\n",
    "print(mess)\n",
    "\n",
    "mess=f\"hello {guest_list[2]},i invite to dinner\"\n",
    "print(mess)"
   ]
  },
  {
   "cell_type": "markdown",
   "id": "039ce524",
   "metadata": {},
   "source": [
    "# 3.6"
   ]
  },
  {
   "cell_type": "code",
   "execution_count": 43,
   "id": "046adfc5",
   "metadata": {},
   "outputs": [
    {
     "name": "stdout",
     "output_type": "stream",
     "text": [
      "i nvite more famous personlities i have bigger table booked\n",
      "['Imran Khan', 'Elon musk', 'Mark', 'SRK', 'Nasir Hussain', 'Salman khan']\n"
     ]
    },
    {
     "data": {
      "text/plain": [
       "6"
      ]
     },
     "execution_count": 43,
     "metadata": {},
     "output_type": "execute_result"
    }
   ],
   "source": [
    "guest_list=['Elon musk','Mark','Nasir Hussain']\n",
    "\n",
    "print(\"i nvite more famous personlities i have bigger table booked\")\n",
    "\n",
    "\n",
    "guest_list.insert(0,'Imran Khan')    #start with beginning\n",
    "\n",
    "guest_list.insert(3,'SRK')           #MIDDLE\n",
    "\n",
    "\n",
    "guest_list.append('Salman khan')    #last index\n",
    "\n",
    "\n",
    "print(guest_list)\n",
    "\n",
    "len(guest_list)\n"
   ]
  },
  {
   "cell_type": "code",
   "execution_count": 3,
   "id": "2761bb8c",
   "metadata": {},
   "outputs": [
    {
     "data": {
      "text/plain": [
       "['Imran Khan', 'Elon musk', 'Mark', 'SRK', 'Nasir Hussain', 'Salman khan']"
      ]
     },
     "execution_count": 3,
     "metadata": {},
     "output_type": "execute_result"
    }
   ],
   "source": [
    "guest_list"
   ]
  },
  {
   "cell_type": "markdown",
   "id": "46164208",
   "metadata": {},
   "source": [
    "# 3.7"
   ]
  },
  {
   "cell_type": "code",
   "execution_count": 7,
   "id": "ab4f4280",
   "metadata": {},
   "outputs": [
    {
     "name": "stdout",
     "output_type": "stream",
     "text": [
      "only two person invitedddd,sorrry\n",
      "SRK,sorry for no invition for dinner \n"
     ]
    },
    {
     "data": {
      "text/plain": [
       "['Imran Khan', 'Salman khan']"
      ]
     },
     "execution_count": 7,
     "metadata": {},
     "output_type": "execute_result"
    }
   ],
   "source": [
    "print(\"only two person invitedddd,sorrry\")\n",
    "print(f\"{guest_list.pop(1)},sorry for no invition for dinner \")\n",
    "guest_list"
   ]
  },
  {
   "cell_type": "code",
   "execution_count": 8,
   "id": "d64b595d",
   "metadata": {},
   "outputs": [
    {
     "data": {
      "text/plain": [
       "['Imran Khan', 'Salman khan']"
      ]
     },
     "execution_count": 8,
     "metadata": {},
     "output_type": "execute_result"
    }
   ],
   "source": [
    "guest_list"
   ]
  },
  {
   "cell_type": "code",
   "execution_count": 11,
   "id": "cb7b3f71",
   "metadata": {},
   "outputs": [],
   "source": [
    "del guest_list[0]"
   ]
  },
  {
   "cell_type": "code",
   "execution_count": 12,
   "id": "0913de78",
   "metadata": {},
   "outputs": [
    {
     "data": {
      "text/plain": [
       "[]"
      ]
     },
     "execution_count": 12,
     "metadata": {},
     "output_type": "execute_result"
    }
   ],
   "source": [
    "guest_list"
   ]
  },
  {
   "cell_type": "markdown",
   "id": "64df7e2a",
   "metadata": {},
   "source": [
    "# 3.8"
   ]
  },
  {
   "cell_type": "code",
   "execution_count": 21,
   "id": "9ecbb0c6",
   "metadata": {},
   "outputs": [
    {
     "name": "stdout",
     "output_type": "stream",
     "text": [
      "origional list is  =['Taj Mahal', 'kedarnath', 'kashmir', 'hunza valley', 'skardu']\n",
      "sorted list  = ['Taj Mahal', 'hunza valley', 'kashmir', 'kedarnath', 'skardu']\n",
      "Again origional list is  =['Taj Mahal', 'kedarnath', 'kashmir', 'hunza valley', 'skardu']\n"
     ]
    }
   ],
   "source": [
    "places=['Taj Mahal','kedarnath','kashmir','hunza valley','skardu']\n",
    "\n",
    "print(f\"origional list is  ={places}\" )                  #origional list\n",
    "\n",
    "print(f\"sorted list  = {sorted(places)}\")             #sort list\n",
    "\n",
    "\n",
    "print(f\"Again origional list is  ={places}\" )                     #again origional list\n"
   ]
  },
  {
   "cell_type": "code",
   "execution_count": 30,
   "id": "1b6c9d2d",
   "metadata": {},
   "outputs": [
    {
     "name": "stdout",
     "output_type": "stream",
     "text": [
      "sorted list  = None\n"
     ]
    },
    {
     "data": {
      "text/plain": [
       "['skardu', 'kedarnath', 'kashmir', 'hunza valley', 'Taj Mahal']"
      ]
     },
     "execution_count": 30,
     "metadata": {},
     "output_type": "execute_result"
    }
   ],
   "source": [
    "places=['Taj Mahal','kedarnath','kashmir','hunza valley','skardu']\n",
    "\n",
    "print(f\"sorted list  = {places.sort(reverse=True)}\")  \n",
    "places"
   ]
  },
  {
   "cell_type": "code",
   "execution_count": 32,
   "id": "ebc4ff48",
   "metadata": {},
   "outputs": [
    {
     "name": "stdout",
     "output_type": "stream",
     "text": [
      "sorted list  = ['Taj Mahal', 'hunza valley', 'kashmir', 'kedarnath', 'skardu']\n",
      "Again origional list is  =['Taj Mahal', 'kedarnath', 'kashmir', 'hunza valley', 'skardu']\n"
     ]
    }
   ],
   "source": [
    "places=['Taj Mahal','kedarnath','kashmir','hunza valley','skardu']\n",
    "\n",
    "print(f\"sorted list  = {sorted(places)}\")             #sort list\n",
    "  \n",
    "print(f\"Again origional list is  ={places}\" )    "
   ]
  },
  {
   "cell_type": "code",
   "execution_count": null,
   "id": "e3a2a88a",
   "metadata": {},
   "outputs": [],
   "source": []
  },
  {
   "cell_type": "code",
   "execution_count": 35,
   "id": "4edcd929",
   "metadata": {},
   "outputs": [
    {
     "data": {
      "text/plain": [
       "['Taj Mahal', 'kedarnath', 'kashmir', 'hunza valley', 'skardu']"
      ]
     },
     "execution_count": 35,
     "metadata": {},
     "output_type": "execute_result"
    }
   ],
   "source": [
    "places"
   ]
  },
  {
   "cell_type": "code",
   "execution_count": 39,
   "id": "2a42d041",
   "metadata": {},
   "outputs": [
    {
     "name": "stdout",
     "output_type": "stream",
     "text": [
      "order had changes and reverse list is None\n"
     ]
    },
    {
     "data": {
      "text/plain": [
       "['skardu', 'hunza valley', 'kashmir', 'kedarnath', 'Taj Mahal']"
      ]
     },
     "execution_count": 39,
     "metadata": {},
     "output_type": "execute_result"
    }
   ],
   "source": [
    "print(f\"order had changes and reverse list is {places.reverse()}\")\n",
    "places"
   ]
  },
  {
   "cell_type": "markdown",
   "id": "7d3e347f",
   "metadata": {},
   "source": [
    "# 3.9"
   ]
  },
  {
   "cell_type": "code",
   "execution_count": 40,
   "id": "a02852bf",
   "metadata": {},
   "outputs": [
    {
     "data": {
      "text/plain": [
       "3"
      ]
     },
     "execution_count": 40,
     "metadata": {},
     "output_type": "execute_result"
    }
   ],
   "source": [
    "guest_list=['Elon musk','Mark','Nasir Hussain']\n",
    "\n",
    "len(guest_list)"
   ]
  },
  {
   "cell_type": "markdown",
   "id": "be8df512",
   "metadata": {},
   "source": [
    "# 3.11"
   ]
  },
  {
   "cell_type": "code",
   "execution_count": 45,
   "id": "16f8fd86",
   "metadata": {},
   "outputs": [
    {
     "ename": "IndexError",
     "evalue": "list index out of range",
     "output_type": "error",
     "traceback": [
      "\u001b[1;31m---------------------------------------------------------------------------\u001b[0m",
      "\u001b[1;31mIndexError\u001b[0m                                Traceback (most recent call last)",
      "Input \u001b[1;32mIn [45]\u001b[0m, in \u001b[0;36m<cell line: 2>\u001b[1;34m()\u001b[0m\n\u001b[0;32m      1\u001b[0m new_list\u001b[38;5;241m=\u001b[39m[\u001b[38;5;124m'\u001b[39m\u001b[38;5;124mfreinds\u001b[39m\u001b[38;5;124m'\u001b[39m,\u001b[38;5;124m'\u001b[39m\u001b[38;5;124mfamily\u001b[39m\u001b[38;5;124m'\u001b[39m,\u001b[38;5;124m'\u001b[39m\u001b[38;5;124mstudents\u001b[39m\u001b[38;5;124m'\u001b[39m]\n\u001b[1;32m----> 2\u001b[0m \u001b[43mnew_list\u001b[49m\u001b[43m[\u001b[49m\u001b[38;5;241;43m3\u001b[39;49m\u001b[43m]\u001b[49m\n",
      "\u001b[1;31mIndexError\u001b[0m: list index out of range"
     ]
    }
   ],
   "source": [
    "new_list=['freinds','family','students']\n",
    "new_list[3]"
   ]
  },
  {
   "cell_type": "code",
   "execution_count": 46,
   "id": "754bdfb4",
   "metadata": {},
   "outputs": [
    {
     "ename": "IndexError",
     "evalue": "list index out of range",
     "output_type": "error",
     "traceback": [
      "\u001b[1;31m---------------------------------------------------------------------------\u001b[0m",
      "\u001b[1;31mIndexError\u001b[0m                                Traceback (most recent call last)",
      "Input \u001b[1;32mIn [46]\u001b[0m, in \u001b[0;36m<cell line: 2>\u001b[1;34m()\u001b[0m\n\u001b[0;32m      1\u001b[0m new_list\u001b[38;5;241m=\u001b[39m[]\n\u001b[1;32m----> 2\u001b[0m \u001b[43mnew_list\u001b[49m\u001b[43m[\u001b[49m\u001b[38;5;241;43m3\u001b[39;49m\u001b[43m]\u001b[49m\n",
      "\u001b[1;31mIndexError\u001b[0m: list index out of range"
     ]
    }
   ],
   "source": [
    "new_list=[]\n",
    "new_list[3]"
   ]
  },
  {
   "cell_type": "code",
   "execution_count": null,
   "id": "02950d02",
   "metadata": {},
   "outputs": [],
   "source": []
  }
 ],
 "metadata": {
  "kernelspec": {
   "display_name": "Python 3 (ipykernel)",
   "language": "python",
   "name": "python3"
  },
  "language_info": {
   "codemirror_mode": {
    "name": "ipython",
    "version": 3
   },
   "file_extension": ".py",
   "mimetype": "text/x-python",
   "name": "python",
   "nbconvert_exporter": "python",
   "pygments_lexer": "ipython3",
   "version": "3.9.12"
  }
 },
 "nbformat": 4,
 "nbformat_minor": 5
}
