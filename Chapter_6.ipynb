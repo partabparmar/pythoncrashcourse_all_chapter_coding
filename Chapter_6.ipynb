{
 "cells": [
  {
   "cell_type": "markdown",
   "id": "5e0b63d8",
   "metadata": {},
   "source": [
    "# 6.1"
   ]
  },
  {
   "cell_type": "code",
   "execution_count": 2,
   "id": "4226324a",
   "metadata": {},
   "outputs": [
    {
     "name": "stdout",
     "output_type": "stream",
     "text": [
      "Partab\n",
      "Rai\n",
      "23\n",
      "Karachi\n"
     ]
    }
   ],
   "source": [
    "person_dict={'firstname':'Partab','Last_name':'Rai','age':23,'city':'Karachi'}\n",
    "\n",
    "print(person_dict['firstname'])\n",
    "print(person_dict['Last_name'])\n",
    "print(person_dict['age'])\n",
    "print(person_dict['city'])"
   ]
  },
  {
   "cell_type": "code",
   "execution_count": 7,
   "id": "c559929b",
   "metadata": {},
   "outputs": [
    {
     "name": "stdout",
     "output_type": "stream",
     "text": [
      "dict_keys(['ajeet', 'salim', 'alex', 'Afridi', 'Babar']) fav num is = dict_values([13, 25, 99, 10, 56])\n"
     ]
    }
   ],
   "source": [
    "fav_num={'ajeet':13,'salim':25,'alex':99,'Afridi':10,'Babar':56}\n",
    "\n",
    "get_keys=fav_num.keys()\n",
    "get_value=fav_num.values()\n",
    "\n",
    "print(f\"{get_keys} fav num is = {get_value}\")"
   ]
  },
  {
   "cell_type": "code",
   "execution_count": 10,
   "id": "96203b3a",
   "metadata": {},
   "outputs": [
    {
     "name": "stdout",
     "output_type": "stream",
     "text": [
      "dict_items([('ajeet', 13), ('salim', 25), ('alex', 99), ('Afridi', 10), ('Babar', 56)])\n"
     ]
    }
   ],
   "source": [
    "get_item=fav_num.items()\n",
    "print(get_item)\n"
   ]
  },
  {
   "cell_type": "code",
   "execution_count": 19,
   "id": "e0c0d22b",
   "metadata": {},
   "outputs": [
    {
     "name": "stdout",
     "output_type": "stream",
     "text": [
      "dict_items([('if_else', ''), ('for', ''), ('comprehenssion', ''), ('boolen', ''), ('list', '')])\n"
     ]
    }
   ],
   "source": [
    "learn_prog={\n",
    "    'if_else':'',\n",
    "    'for':'',\n",
    "    'comprehenssion':'',\n",
    "    'boolen':'',\n",
    "    'list':''\n",
    "    \n",
    "}\n",
    "\n",
    "a=learn_prog.items()\n",
    "print(f\"{a}\")"
   ]
  },
  {
   "cell_type": "code",
   "execution_count": 22,
   "id": "210af8d2",
   "metadata": {},
   "outputs": [
    {
     "name": "stdout",
     "output_type": "stream",
     "text": [
      "('nile', 'egypt')\n",
      "('River indus', 'pakistan')\n",
      "('Amazon', 'America')\n"
     ]
    }
   ],
   "source": [
    "fav_rivers={\n",
    "    'nile':'egypt',\n",
    "    'River indus':'pakistan',\n",
    "    'Amazon':'America'\n",
    "}\n",
    "\n",
    "for i in fav_rivers.items():\n",
    "    print(i)\n",
    "\n",
    "\n"
   ]
  },
  {
   "cell_type": "code",
   "execution_count": 27,
   "id": "0e47e040",
   "metadata": {},
   "outputs": [
    {
     "name": "stdout",
     "output_type": "stream",
     "text": [
      "nile\n",
      "River indus\n",
      "Amazon\n"
     ]
    }
   ],
   "source": [
    "for i in fav_rivers.keys():\n",
    "    print(i)"
   ]
  },
  {
   "cell_type": "code",
   "execution_count": 28,
   "id": "29352c8b",
   "metadata": {},
   "outputs": [
    {
     "name": "stdout",
     "output_type": "stream",
     "text": [
      "egypt\n",
      "pakistan\n",
      "America\n"
     ]
    }
   ],
   "source": [
    "for i in fav_rivers.values():\n",
    "    print(i)"
   ]
  },
  {
   "cell_type": "code",
   "execution_count": null,
   "id": "49a27c0c",
   "metadata": {},
   "outputs": [],
   "source": []
  },
  {
   "cell_type": "code",
   "execution_count": 34,
   "id": "06315bff",
   "metadata": {},
   "outputs": [
    {
     "data": {
      "text/plain": [
       "['password', 'confirm password']"
      ]
     },
     "execution_count": 34,
     "metadata": {},
     "output_type": "execute_result"
    }
   ],
   "source": [
    "person_dict={'firstname':'Partab','Last_name':'Rai','age':23,'city':'Karachi'}\n",
    "person_dict1={'gmail':'abc@gmail.com','username':'partabrai@gamil.com'}\n",
    "person_dict2={'password':'123456789','confirm password':'123456789'}\n",
    "\n",
    "peoples=list(dict(person_dict2))\n",
    "\n",
    "peoples\n"
   ]
  },
  {
   "cell_type": "code",
   "execution_count": 35,
   "id": "016e366f",
   "metadata": {},
   "outputs": [
    {
     "data": {
      "text/plain": [
       "['password', 'confirm password']"
      ]
     },
     "execution_count": 35,
     "metadata": {},
     "output_type": "execute_result"
    }
   ],
   "source": [
    "peoples"
   ]
  },
  {
   "cell_type": "code",
   "execution_count": null,
   "id": "1f3ddf32",
   "metadata": {},
   "outputs": [],
   "source": []
  }
 ],
 "metadata": {
  "kernelspec": {
   "display_name": "Python 3 (ipykernel)",
   "language": "python",
   "name": "python3"
  },
  "language_info": {
   "codemirror_mode": {
    "name": "ipython",
    "version": 3
   },
   "file_extension": ".py",
   "mimetype": "text/x-python",
   "name": "python",
   "nbconvert_exporter": "python",
   "pygments_lexer": "ipython3",
   "version": "3.9.12"
  }
 },
 "nbformat": 4,
 "nbformat_minor": 5
}
