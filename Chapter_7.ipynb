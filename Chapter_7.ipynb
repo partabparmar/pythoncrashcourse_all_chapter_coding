{
 "cells": [
  {
   "cell_type": "markdown",
   "id": "7111fd6c",
   "metadata": {},
   "source": [
    "# 7.1"
   ]
  },
  {
   "cell_type": "code",
   "execution_count": 3,
   "id": "04beb280",
   "metadata": {},
   "outputs": [
    {
     "name": "stdout",
     "output_type": "stream",
     "text": [
      "what kind of rental car they would like.  bmw\n",
      "“Let me see if I can find you a bmw\n"
     ]
    }
   ],
   "source": [
    "rental_car=input(\"what kind of rental car they would like.  \" )\n",
    "\n",
    "message=f\"“Let me see if I can find you a {rental_car}\"\n",
    "print(message)"
   ]
  },
  {
   "cell_type": "markdown",
   "id": "8e15d928",
   "metadata": {},
   "source": [
    "# 7.2"
   ]
  },
  {
   "cell_type": "code",
   "execution_count": 5,
   "id": "c4f51747",
   "metadata": {},
   "outputs": [
    {
     "name": "stdout",
     "output_type": "stream",
     "text": [
      "how many people are in their dinner group  9\n",
      " they’ll have to wait for a table.\n"
     ]
    }
   ],
   "source": [
    "rest_seat=int(input(\"how many people are in their dinner group  \"))\n",
    "\n",
    "if rest_seat>8:\n",
    "    print(\" they’ll have to wait for a table.\")\n",
    "    \n",
    "else:\n",
    "    print(\"report that their table is ready\")"
   ]
  },
  {
   "cell_type": "markdown",
   "id": "2e8ebf37",
   "metadata": {},
   "source": [
    "# 7.3"
   ]
  },
  {
   "cell_type": "code",
   "execution_count": 7,
   "id": "608eabab",
   "metadata": {},
   "outputs": [
    {
     "name": "stdout",
     "output_type": "stream",
     "text": [
      "Enter Number  20\n",
      "Number is mutiply of 10\n"
     ]
    }
   ],
   "source": [
    "mutli_10_num=int(input(\"Enter Number  \"))\n",
    "\n",
    "if mutli_10_num%10==0:\n",
    "    print(\"Number is mutiply of 10\")\n",
    "else:\n",
    "    print(\"Number is not multiply of 10\")"
   ]
  },
  {
   "cell_type": "markdown",
   "id": "e326e502",
   "metadata": {},
   "source": [
    "# 7.4"
   ]
  },
  {
   "cell_type": "code",
   "execution_count": 1,
   "id": "5aaba0bf",
   "metadata": {},
   "outputs": [
    {
     "name": "stdout",
     "output_type": "stream",
     "text": [
      "Enter Topping  extra peppory\n",
      " you’ll add that topping to their pizza.\n",
      "Enter Topping  kitchips\n",
      " you’ll add that topping to their pizza.\n",
      "Enter Topping  quit\n"
     ]
    }
   ],
   "source": [
    "\n",
    "while True:\n",
    "    pizza_topping=input(\"Enter Topping  \" )\n",
    "    if pizza_topping=='quit':\n",
    "        break\n",
    "    else:\n",
    "        print(\" you’ll add that topping to their pizza.\")"
   ]
  },
  {
   "cell_type": "markdown",
   "id": "ceea89ae",
   "metadata": {},
   "source": [
    "# 7.5"
   ]
  },
  {
   "cell_type": "code",
   "execution_count": 5,
   "id": "dc8d4cac",
   "metadata": {},
   "outputs": [
    {
     "name": "stdout",
     "output_type": "stream",
     "text": [
      "Enter AGE 8\n",
      "the ticket is cost =10$\n"
     ]
    }
   ],
   "source": [
    "person_age=int(input(\"Enter AGE \"))\n",
    "\n",
    "while person_age<=3:\n",
    "    movies_ticket=0\n",
    "    print(f\"the ticket is free  ={movies_ticket}$\")\n",
    "    break\n",
    "while person_age >3and person_age<=12:\n",
    "    movies_ticket=10\n",
    "    print(f\"the ticket is cost ={movies_ticket}$\")\n",
    "    break\n",
    "while person_age >12:\n",
    "    movies_ticket=15\n",
    "    print(f\"the ticket is cost   ={movies_ticket}$\")\n",
    "    break\n",
    "    \n",
    "    "
   ]
  },
  {
   "cell_type": "markdown",
   "id": "00eb4daa",
   "metadata": {},
   "source": [
    "# 7.6"
   ]
  },
  {
   "cell_type": "code",
   "execution_count": 1,
   "id": "ad0b07c5",
   "metadata": {},
   "outputs": [
    {
     "name": "stdout",
     "output_type": "stream",
     "text": [
      "loop infinite 1\n"
     ]
    }
   ],
   "source": [
    "x=1\n",
    "\n",
    "while x<=5:\n",
    "    print(f\"loop infinite {x}\")\n",
    "    break"
   ]
  },
  {
   "cell_type": "code",
   "execution_count": null,
   "id": "10c50d50",
   "metadata": {},
   "outputs": [],
   "source": []
  },
  {
   "cell_type": "code",
   "execution_count": null,
   "id": "94620ecd",
   "metadata": {},
   "outputs": [],
   "source": []
  },
  {
   "cell_type": "code",
   "execution_count": 5,
   "id": "fdd5925a",
   "metadata": {},
   "outputs": [
    {
     "name": "stdout",
     "output_type": "stream",
     "text": [
      "your STEAK sandwich is made \n",
      "your SIMPLE sandwich is made \n",
      "your COMBINATION sandwich is made \n",
      "your TUNA sandwich is made \n",
      "your PASTRAMI sandwich is made \n"
     ]
    }
   ],
   "source": [
    "sandwich_orders=['PASTRAMI','TUNA','COMBINATION','SIMPLE','STEAK']\n",
    "finished_sandwich=[]\n",
    "while sandwich_orders:\n",
    "    current_sandwichs=sandwich_orders.pop()\n",
    "    \n",
    "    finished_sandwich.append(current_sandwichs)\n",
    "\n",
    "for i in finished_sandwich:\n",
    "    print(f\"your {i} sandwich is made \")\n",
    "    "
   ]
  },
  {
   "cell_type": "code",
   "execution_count": 6,
   "id": "7ea2d7a9",
   "metadata": {},
   "outputs": [
    {
     "name": "stdout",
     "output_type": "stream",
     "text": [
      "['TUNA', 'COMBINATION', 'SIMPLE', 'STEAK']\n"
     ]
    }
   ],
   "source": [
    "sandwich_orders=['PASTRAMI','TUNA','COMBINATION','PASTRAMI','SIMPLE','STEAK','PASTRAMI']\n",
    "finished_sandwich=[]\n",
    "while 'PASTRAMI' in sandwich_orders:\n",
    "     sandwich_orders.remove('PASTRAMI')\n",
    "        \n",
    "finished_sandwich=sandwich_orders.copy()\n",
    "print(finished_sandwich)\n",
    "    "
   ]
  },
  {
   "cell_type": "code",
   "execution_count": 1,
   "id": "bc15e806",
   "metadata": {},
   "outputs": [
    {
     "name": "stdout",
     "output_type": "stream",
     "text": [
      "If you could visit one place in the world, where would you go?    =USA\n",
      "If you could visit ANOTHER place in the world, where would you go?    =KSHMIR\n",
      "If you could visit one place in the world, where would you go?    =paris\n",
      "If you could visit ANOTHER place in the world, where would you go?    =no\n",
      "your dream places are  =USA\n",
      "your dream places are  =paris\n"
     ]
    }
   ],
   "source": [
    "dream_vaccination=True\n",
    "place_list=[]\n",
    "while dream_vaccination:\n",
    "    place=input(\"If you could visit one place in the world, where would you go?    =\")\n",
    "    place_list.append(place)\n",
    "    place=input(\"If you could visit ANOTHER place in the world, where would you go?    =\")\n",
    "    place_list.append(place)\n",
    "    if place=='no':\n",
    "        dream_vaccination = False\n",
    "     \n",
    "            \n",
    "            \n",
    "            \n",
    "for i in place_list:\n",
    "    print(f\"your dream places are  ={i}\")"
   ]
  },
  {
   "cell_type": "code",
   "execution_count": null,
   "id": "21f697a4",
   "metadata": {},
   "outputs": [],
   "source": []
  }
 ],
 "metadata": {
  "kernelspec": {
   "display_name": "Python 3 (ipykernel)",
   "language": "python",
   "name": "python3"
  },
  "language_info": {
   "codemirror_mode": {
    "name": "ipython",
    "version": 3
   },
   "file_extension": ".py",
   "mimetype": "text/x-python",
   "name": "python",
   "nbconvert_exporter": "python",
   "pygments_lexer": "ipython3",
   "version": "3.9.12"
  }
 },
 "nbformat": 4,
 "nbformat_minor": 5
}
