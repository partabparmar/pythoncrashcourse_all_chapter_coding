{
 "cells": [
  {
   "cell_type": "markdown",
   "id": "11296353",
   "metadata": {},
   "source": [
    "# 5.1 and 5.2"
   ]
  },
  {
   "cell_type": "code",
   "execution_count": 1,
   "id": "78e60752",
   "metadata": {},
   "outputs": [
    {
     "name": "stdout",
     "output_type": "stream",
     "text": [
      "Is car == 'subaru'? I predict True.\n",
      "True\n"
     ]
    }
   ],
   "source": [
    "car = 'subaru'\n",
    "print(\"Is car == 'subaru'? I predict True.\")\n",
    "print(car == 'subaru')"
   ]
  },
  {
   "cell_type": "code",
   "execution_count": 3,
   "id": "cfc90218",
   "metadata": {},
   "outputs": [
    {
     "name": "stdout",
     "output_type": "stream",
     "text": [
      "\n",
      "Is car == 'audi'? I predict False.\n",
      "False\n"
     ]
    }
   ],
   "source": [
    "print(\"\\nIs car == 'audi'? I predict False.\")\n",
    "print(car == 'audi')"
   ]
  },
  {
   "cell_type": "code",
   "execution_count": 4,
   "id": "38d4057a",
   "metadata": {},
   "outputs": [
    {
     "data": {
      "text/plain": [
       "False"
      ]
     },
     "execution_count": 4,
     "metadata": {},
     "output_type": "execute_result"
    }
   ],
   "source": [
    "student_name='hafeez'\n",
    "student_name=='ahmed'"
   ]
  },
  {
   "cell_type": "code",
   "execution_count": 7,
   "id": "97039c9a",
   "metadata": {},
   "outputs": [
    {
     "data": {
      "text/plain": [
       "False"
      ]
     },
     "execution_count": 7,
     "metadata": {},
     "output_type": "execute_result"
    }
   ],
   "source": [
    "student_count=13\n",
    "student_present=10\n",
    "\n",
    "student_count<10 and student_present >=10"
   ]
  },
  {
   "cell_type": "code",
   "execution_count": 8,
   "id": "b5dc15af",
   "metadata": {},
   "outputs": [
    {
     "data": {
      "text/plain": [
       "True"
      ]
     },
     "execution_count": 8,
     "metadata": {},
     "output_type": "execute_result"
    }
   ],
   "source": [
    "student_count=13\n",
    "student_present=10\n",
    "\n",
    "student_count<10 or student_present >=10"
   ]
  },
  {
   "cell_type": "code",
   "execution_count": 12,
   "id": "bb465b76",
   "metadata": {},
   "outputs": [
    {
     "data": {
      "text/plain": [
       "True"
      ]
     },
     "execution_count": 12,
     "metadata": {},
     "output_type": "execute_result"
    }
   ],
   "source": [
    "new_list=['apple','orange','bannana']\n",
    "\n",
    "'apple' in new_list"
   ]
  },
  {
   "cell_type": "code",
   "execution_count": 11,
   "id": "74496d5c",
   "metadata": {},
   "outputs": [
    {
     "data": {
      "text/plain": [
       "False"
      ]
     },
     "execution_count": 11,
     "metadata": {},
     "output_type": "execute_result"
    }
   ],
   "source": [
    "'peanut' in new_list"
   ]
  },
  {
   "cell_type": "code",
   "execution_count": 13,
   "id": "1a4caf3b",
   "metadata": {},
   "outputs": [
    {
     "data": {
      "text/plain": [
       "True"
      ]
     },
     "execution_count": 13,
     "metadata": {},
     "output_type": "execute_result"
    }
   ],
   "source": [
    "student_name=\"Partab\"\n",
    "\n",
    "student_name.lower()=='partab'"
   ]
  },
  {
   "cell_type": "markdown",
   "id": "f5f9ab2d",
   "metadata": {},
   "source": [
    "# 5.3 and 5.4"
   ]
  },
  {
   "cell_type": "code",
   "execution_count": 16,
   "id": "e092f7b2",
   "metadata": {},
   "outputs": [
    {
     "name": "stdout",
     "output_type": "stream",
     "text": [
      "enter the colorred\n",
      "version failed\n"
     ]
    }
   ],
   "source": [
    "alein_color=input(\"enter the color\")\n",
    "\n",
    "if alein_color=='green':\n",
    "    print(\"You are earned 5 points\")\n",
    "else:\n",
    "    print(\"version failed\")\n",
    "    "
   ]
  },
  {
   "cell_type": "code",
   "execution_count": 18,
   "id": "af40db93",
   "metadata": {},
   "outputs": [
    {
     "name": "stdout",
     "output_type": "stream",
     "text": [
      "enter the colorred\n",
      "You earned 10 points\n"
     ]
    }
   ],
   "source": [
    "alein_color=input(\"enter the color\")\n",
    "\n",
    "if alein_color=='green':\n",
    "    print(\"You are earned 5 points\")\n",
    "else:\n",
    "    print(\"You earned 10 points\")\n"
   ]
  },
  {
   "cell_type": "code",
   "execution_count": 20,
   "id": "def2f5e8",
   "metadata": {},
   "outputs": [
    {
     "name": "stdout",
     "output_type": "stream",
     "text": [
      "enter the colorred\n",
      "You are erned 15 points\n"
     ]
    }
   ],
   "source": [
    "alein_color=input(\"enter the color\")\n",
    "\n",
    "if alein_color=='green':\n",
    "    print(\"You are earned 5 points\")\n",
    "elif alein_color=='yellow':\n",
    "    print(\"You earned 10 points\")\n",
    "elif alein_color=='red':\n",
    "    print(\"You are erned 15 points\")\n",
    "    \n",
    "else:\n",
    "    print(\"invalid color\")\n"
   ]
  },
  {
   "cell_type": "code",
   "execution_count": 28,
   "id": "0dad414b",
   "metadata": {},
   "outputs": [
    {
     "name": "stdout",
     "output_type": "stream",
     "text": [
      "enter age  50\n",
      "person is adult\n"
     ]
    }
   ],
   "source": [
    "age=int(input(\"enter age  \"))\n",
    "\n",
    "\n",
    "if age<=2:\n",
    "    print(\"person is baby\")\n",
    "elif age<=2 or age<4:\n",
    "    print(\"person is toddler\")\n",
    "elif age<=4 or age<13:\n",
    "    print(\"person is kid\")\n",
    "elif age<=13 or age<20:\n",
    "    print(\"person is teenager\")\n",
    "elif age<=20 or age<65:\n",
    "    print(\"person is adult\")\n",
    "elif age>=65:\n",
    "    print(\"person is older\")"
   ]
  },
  {
   "cell_type": "code",
   "execution_count": null,
   "id": "2fb03297",
   "metadata": {},
   "outputs": [],
   "source": []
  },
  {
   "cell_type": "code",
   "execution_count": 30,
   "id": "1f7f5062",
   "metadata": {},
   "outputs": [
    {
     "name": "stdout",
     "output_type": "stream",
     "text": [
      " i like apple\n",
      " i like bannana\n",
      " i like mango\n"
     ]
    }
   ],
   "source": [
    "fav_fruits=['apple','bannana','mango']\n",
    "\n",
    "if fav_fruits[0]=='apple':\n",
    "    print(f\" i like {fav_fruits[0]}\")\n",
    "if fav_fruits[2]=='apple':\n",
    "    print(f\" i like {fav_fruits[2]}\")\n",
    "if fav_fruits[1]=='bannana':\n",
    "    print(f\" i like {fav_fruits[1]}\")\n",
    "if fav_fruits[-1]=='mango':\n",
    "    print(f\" i like {fav_fruits[-1]}\")\n",
    "if fav_fruits[2]=='bannana':\n",
    "    print(f\" i like {fav_fruits[3]}\")"
   ]
  },
  {
   "cell_type": "code",
   "execution_count": 33,
   "id": "d6677ca7",
   "metadata": {},
   "outputs": [
    {
     "name": "stdout",
     "output_type": "stream",
     "text": [
      "hello partabrai,thank you for logging in again.\n",
      "hello ajeet,thank you for logging in again.\n",
      "Hello admin,would you like to see a status report\n",
      "hello ahmed999,thank you for logging in again.\n"
     ]
    }
   ],
   "source": [
    "user_name=['partabrai','ajeet','admin','ahmed999']\n",
    "\n",
    "for i in user_name:\n",
    "    if i=='admin':\n",
    "        print(f\"Hello {i},would you like to see a status report\")\n",
    "    else:\n",
    "        print(f\"hello {i},thank you for logging in again.\")"
   ]
  },
  {
   "cell_type": "code",
   "execution_count": 34,
   "id": "7001bbf8",
   "metadata": {},
   "outputs": [
    {
     "name": "stdout",
     "output_type": "stream",
     "text": [
      "list is not empty\n"
     ]
    }
   ],
   "source": [
    "user_name=['partabrai','ajeet','admin','ahmed999']\n",
    "\n",
    "if user_name:\n",
    "    print(\"list is not empty\")"
   ]
  },
  {
   "cell_type": "code",
   "execution_count": 35,
   "id": "73b739e3",
   "metadata": {},
   "outputs": [
    {
     "name": "stdout",
     "output_type": "stream",
     "text": [
      "list is empty\n"
     ]
    }
   ],
   "source": [
    "user_name=[]\n",
    "\n",
    "if user_name:\n",
    "    print(\"list is not empty\")\n",
    "else:\n",
    "    print(\"list is empty\")"
   ]
  },
  {
   "cell_type": "code",
   "execution_count": 3,
   "id": "362fe672",
   "metadata": {},
   "outputs": [
    {
     "name": "stdout",
     "output_type": "stream",
     "text": [
      "all removed[]\n"
     ]
    }
   ],
   "source": [
    "user_name=['partabrai','ajeet','admin','ahmed999']\n",
    "\n",
    "user_name=[]\n",
    "   \n",
    "print(f\"all removed{user_name}\")"
   ]
  },
  {
   "cell_type": "code",
   "execution_count": 7,
   "id": "f6ad7f9f",
   "metadata": {},
   "outputs": [
    {
     "name": "stdout",
     "output_type": "stream",
     "text": [
      "user available\n",
      " admin123 the username has already take another \n",
      "enter new_username david1977\n",
      " david1977 \n",
      "user available\n",
      " hello123 the username has already take another \n",
      "enter new_username das777\n",
      " das777 \n",
      "user available\n"
     ]
    }
   ],
   "source": [
    "current_user=['Nasir333','partab rai','hello123','admin123','ahmed999']\n",
    "\n",
    "new_user=['david1977','admin123','alex@gmail.com','hello123','zarrar.com']\n",
    "\n",
    "for new_userName in new_user:\n",
    "    if new_userName in current_user:\n",
    "        print(f\" {new_userName} the username has already take another \")\n",
    "        new_userinput=input(\"enter new_username \")\n",
    "        print(f\" {new_userinput} \")\n",
    "    else:\n",
    "        print(\"user available\")\n"
   ]
  },
  {
   "cell_type": "code",
   "execution_count": 14,
   "id": "05767f00",
   "metadata": {},
   "outputs": [
    {
     "name": "stdout",
     "output_type": "stream",
     "text": [
      "used case sensitive\n",
      "used case sensitive\n",
      "used case sensitive\n",
      "used case sensitive\n",
      "used case sensitive\n"
     ]
    }
   ],
   "source": [
    "new_user=['DAVID','admin123','alex@gmail.com','HELLO','zarrar.com']\n",
    "\n",
    "for new_userName in new_user:\n",
    "    if new_userName.lower():\n",
    "        print(\"used case sensitive\")\n"
   ]
  },
  {
   "cell_type": "code",
   "execution_count": 20,
   "id": "f13dffae",
   "metadata": {},
   "outputs": [
    {
     "name": "stdout",
     "output_type": "stream",
     "text": [
      "1 is indicate = 0 poistion\n",
      "2 is indicate = 1 poistion\n",
      "3 is indicate = 2 poistion\n",
      "4 is indicate = 3 poistion\n",
      "5 is indicate = 4 poistion\n",
      "6 is indicate = 5 poistion\n",
      "7 is indicate = 6 poistion\n",
      "8 is indicate = 7 poistion\n",
      "9 is indicate = 8 poistion\n"
     ]
    }
   ],
   "source": [
    "oridinal_num=[1,2,3,4,5,6,7,8,9]\n",
    "\n",
    "for i in oridinal_num:\n",
    "    print(f\"{i} is indicate = {i-1} poistion\")"
   ]
  },
  {
   "cell_type": "code",
   "execution_count": null,
   "id": "4e9c6ba7",
   "metadata": {},
   "outputs": [],
   "source": []
  },
  {
   "cell_type": "code",
   "execution_count": null,
   "id": "164528b3",
   "metadata": {},
   "outputs": [],
   "source": []
  }
 ],
 "metadata": {
  "kernelspec": {
   "display_name": "Python 3 (ipykernel)",
   "language": "python",
   "name": "python3"
  },
  "language_info": {
   "codemirror_mode": {
    "name": "ipython",
    "version": 3
   },
   "file_extension": ".py",
   "mimetype": "text/x-python",
   "name": "python",
   "nbconvert_exporter": "python",
   "pygments_lexer": "ipython3",
   "version": "3.9.12"
  }
 },
 "nbformat": 4,
 "nbformat_minor": 5
}
