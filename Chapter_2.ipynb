{
 "cells": [
  {
   "cell_type": "markdown",
   "id": "b143456d",
   "metadata": {},
   "source": [
    "# 2.1"
   ]
  },
  {
   "cell_type": "code",
   "execution_count": 37,
   "id": "8a221621",
   "metadata": {},
   "outputs": [
    {
     "name": "stdout",
     "output_type": "stream",
     "text": [
      "Welcome to AL_DS COURSE on saylani office\n"
     ]
    }
   ],
   "source": [
    "#Saylani IT-MASS Training program\n",
    "\n",
    "message=\"Welcome to AL_DS COURSE on saylani office\"\n",
    "print(message)"
   ]
  },
  {
   "cell_type": "markdown",
   "id": "1a52db35",
   "metadata": {},
   "source": [
    "# 2.2"
   ]
  },
  {
   "cell_type": "code",
   "execution_count": 6,
   "id": "393eafbf",
   "metadata": {},
   "outputs": [
    {
     "name": "stdout",
     "output_type": "stream",
     "text": [
      "hello student\n"
     ]
    }
   ],
   "source": [
    "message=\"Welcome to AL_DS COURSE on saylani office\"\n",
    "print(message)\n",
    "\n",
    "new_message=\"hello student\"\n",
    "print(new_message)"
   ]
  },
  {
   "cell_type": "markdown",
   "id": "38dc77e1",
   "metadata": {},
   "source": [
    "# 2.3"
   ]
  },
  {
   "cell_type": "code",
   "execution_count": 13,
   "id": "4e8b9288",
   "metadata": {},
   "outputs": [
    {
     "name": "stdout",
     "output_type": "stream",
     "text": [
      "\"Hello Partab,would you like to learn some Python today?\"\n"
     ]
    }
   ],
   "source": [
    "person_name=\"Partab\"\n",
    "print(f'\"Hello {person_name},would you like to learn some Python today?\"')"
   ]
  },
  {
   "cell_type": "markdown",
   "id": "7e4d063f",
   "metadata": {},
   "source": [
    "# 2.4"
   ]
  },
  {
   "cell_type": "code",
   "execution_count": 20,
   "id": "2f5861fb",
   "metadata": {},
   "outputs": [
    {
     "name": "stdout",
     "output_type": "stream",
     "text": [
      "partab\n",
      "PARTAB\n",
      "Partab\n"
     ]
    }
   ],
   "source": [
    "person_name=\"Partab\"\n",
    "print(person_name.lower())\n",
    "\n",
    "print(person_name.upper())\n",
    "\n",
    "print(person_name.title())\n",
    "\n"
   ]
  },
  {
   "cell_type": "markdown",
   "id": "1a2e12ad",
   "metadata": {},
   "source": [
    "# 2.5"
   ]
  },
  {
   "cell_type": "code",
   "execution_count": 21,
   "id": "3676fcb0",
   "metadata": {},
   "outputs": [
    {
     "name": "stdout",
     "output_type": "stream",
     "text": [
      "hakespeare once said,“You speak an infinite deal of nothing.”\n"
     ]
    }
   ],
   "source": [
    "famous_author=\"hakespeare\"\n",
    "print(f\"{famous_author} once said,“You speak an infinite deal of nothing.”\")"
   ]
  },
  {
   "cell_type": "markdown",
   "id": "0a6d6e23",
   "metadata": {},
   "source": [
    "# 2.6"
   ]
  },
  {
   "cell_type": "code",
   "execution_count": 22,
   "id": "6bc5d92a",
   "metadata": {},
   "outputs": [
    {
     "name": "stdout",
     "output_type": "stream",
     "text": [
      "you are 22 years old but you are not earning, you are fool said by: Elon musk\n"
     ]
    }
   ],
   "source": [
    "famous_person=\"Elon musk\"\n",
    "message=\"you are 22 years old but you are not earning, you are fool said by: \"\n",
    "\n",
    "print(message+\"\"+famous_person)"
   ]
  },
  {
   "cell_type": "markdown",
   "id": "ca30341e",
   "metadata": {},
   "source": [
    "# 2.7"
   ]
  },
  {
   "cell_type": "code",
   "execution_count": 32,
   "id": "7e2e89b2",
   "metadata": {},
   "outputs": [
    {
     "name": "stdout",
     "output_type": "stream",
     "text": [
      "partab \n",
      " partab\n",
      "partab \n"
     ]
    }
   ],
   "source": [
    "person_name=\" partab \"\n",
    "person_name\n",
    "\n",
    "print(person_name.lstrip())\n",
    "\n",
    "\n",
    "print(person_name.rstrip())\n",
    "\n",
    "print(person_name.lstrip())"
   ]
  },
  {
   "cell_type": "markdown",
   "id": "de629a30",
   "metadata": {},
   "source": [
    "# 2.8"
   ]
  },
  {
   "cell_type": "code",
   "execution_count": 33,
   "id": "00a65b59",
   "metadata": {},
   "outputs": [
    {
     "name": "stdout",
     "output_type": "stream",
     "text": [
      "8\n",
      "2\n",
      "15\n",
      "1.6666666666666667\n"
     ]
    }
   ],
   "source": [
    "print(5+3)        # addition\n",
    "print(5-3)        # subtraction\n",
    "print(5*3)        # multi\n",
    "print(5/3)        # division"
   ]
  },
  {
   "cell_type": "markdown",
   "id": "036e1ca2",
   "metadata": {},
   "source": [
    "# 2.9"
   ]
  },
  {
   "cell_type": "code",
   "execution_count": 35,
   "id": "cfaeb543",
   "metadata": {},
   "outputs": [
    {
     "name": "stdout",
     "output_type": "stream",
     "text": [
      "fav num is :13\n"
     ]
    }
   ],
   "source": [
    "fav_num=13\n",
    "mess=\"fav num is :\"\n",
    "\n",
    "print(mess+\"\"+str(fav_num))"
   ]
  },
  {
   "cell_type": "code",
   "execution_count": 36,
   "id": "970af1c7",
   "metadata": {},
   "outputs": [
    {
     "name": "stdout",
     "output_type": "stream",
     "text": [
      "The Zen of Python, by Tim Peters\n",
      "\n",
      "Beautiful is better than ugly.\n",
      "Explicit is better than implicit.\n",
      "Simple is better than complex.\n",
      "Complex is better than complicated.\n",
      "Flat is better than nested.\n",
      "Sparse is better than dense.\n",
      "Readability counts.\n",
      "Special cases aren't special enough to break the rules.\n",
      "Although practicality beats purity.\n",
      "Errors should never pass silently.\n",
      "Unless explicitly silenced.\n",
      "In the face of ambiguity, refuse the temptation to guess.\n",
      "There should be one-- and preferably only one --obvious way to do it.\n",
      "Although that way may not be obvious at first unless you're Dutch.\n",
      "Now is better than never.\n",
      "Although never is often better than *right* now.\n",
      "If the implementation is hard to explain, it's a bad idea.\n",
      "If the implementation is easy to explain, it may be a good idea.\n",
      "Namespaces are one honking great idea -- let's do more of those!\n"
     ]
    }
   ],
   "source": [
    "import this"
   ]
  },
  {
   "cell_type": "code",
   "execution_count": null,
   "id": "08c5b381",
   "metadata": {},
   "outputs": [],
   "source": []
  }
 ],
 "metadata": {
  "kernelspec": {
   "display_name": "Python 3 (ipykernel)",
   "language": "python",
   "name": "python3"
  },
  "language_info": {
   "codemirror_mode": {
    "name": "ipython",
    "version": 3
   },
   "file_extension": ".py",
   "mimetype": "text/x-python",
   "name": "python",
   "nbconvert_exporter": "python",
   "pygments_lexer": "ipython3",
   "version": "3.9.12"
  }
 },
 "nbformat": 4,
 "nbformat_minor": 5
}
