{
 "cells": [
  {
   "cell_type": "markdown",
   "id": "99ee8ca7",
   "metadata": {},
   "source": [
    "# 8.1"
   ]
  },
  {
   "cell_type": "code",
   "execution_count": 2,
   "id": "a3071223",
   "metadata": {},
   "outputs": [],
   "source": [
    "def display_message():\n",
    "    print(\"what you have learned in this chapter\")\n",
    "    \n",
    "    "
   ]
  },
  {
   "cell_type": "code",
   "execution_count": 3,
   "id": "89e400b7",
   "metadata": {},
   "outputs": [
    {
     "name": "stdout",
     "output_type": "stream",
     "text": [
      "what you have learned in this chapter\n"
     ]
    }
   ],
   "source": [
    "display_message()"
   ]
  },
  {
   "cell_type": "markdown",
   "id": "2f445c7d",
   "metadata": {},
   "source": [
    "# 8.2"
   ]
  },
  {
   "cell_type": "code",
   "execution_count": 4,
   "id": "db66319d",
   "metadata": {},
   "outputs": [],
   "source": [
    "def favorite_book(title):\n",
    "    print(f\"One of my favorite books is {title} in Wonderland.\")"
   ]
  },
  {
   "cell_type": "code",
   "execution_count": 8,
   "id": "619bb10d",
   "metadata": {},
   "outputs": [
    {
     "name": "stdout",
     "output_type": "stream",
     "text": [
      "One of my favorite books is 'One Thing you Alive' in Wonderland.\n"
     ]
    }
   ],
   "source": [
    "favorite_book(\"'One Thing you Alive'\")"
   ]
  },
  {
   "cell_type": "markdown",
   "id": "d22f7272",
   "metadata": {},
   "source": [
    "# 8.3"
   ]
  },
  {
   "cell_type": "code",
   "execution_count": 21,
   "id": "2457d680",
   "metadata": {},
   "outputs": [],
   "source": [
    "def make_shirt(text):\n",
    "    size=text.split()\n",
    "    total=0\n",
    "    for i in size:\n",
    "        total+=1\n",
    "        \n",
    "    \n",
    "    print(f\"size is {total} and {text}\")\n",
    "    "
   ]
  },
  {
   "cell_type": "code",
   "execution_count": 22,
   "id": "367de2f5",
   "metadata": {},
   "outputs": [
    {
     "name": "stdout",
     "output_type": "stream",
     "text": [
      "size is 4 and WoW YOU ARE LUCKY\n"
     ]
    }
   ],
   "source": [
    "make_shirt('WoW YOU ARE LUCKY')"
   ]
  },
  {
   "cell_type": "code",
   "execution_count": 23,
   "id": "43b2ad6b",
   "metadata": {},
   "outputs": [
    {
     "name": "stdout",
     "output_type": "stream",
     "text": [
      "mynameisx"
     ]
    }
   ],
   "source": [
    "string=\"my name is x\"\n",
    "for i in string.split():\n",
    "    print(i,end=\"\")"
   ]
  },
  {
   "cell_type": "code",
   "execution_count": null,
   "id": "f5b92e23",
   "metadata": {},
   "outputs": [],
   "source": []
  },
  {
   "cell_type": "code",
   "execution_count": 5,
   "id": "f666ef24",
   "metadata": {},
   "outputs": [
    {
     "name": "stdout",
     "output_type": "stream",
     "text": [
      "testtesttest\n"
     ]
    }
   ],
   "source": [
    "str_text=\"test\"\n",
    "\n",
    "print(str_text*3)\n",
    "\n"
   ]
  },
  {
   "cell_type": "code",
   "execution_count": 6,
   "id": "820a373b",
   "metadata": {},
   "outputs": [],
   "source": [
    "def larger_string(str, n):\n",
    "    result = \"\"\n",
    "    for i in range(n):\n",
    "        result = result + str\n",
    "    return result\n",
    "\n"
   ]
  },
  {
   "cell_type": "code",
   "execution_count": 7,
   "id": "decc2ce6",
   "metadata": {},
   "outputs": [
    {
     "name": "stdout",
     "output_type": "stream",
     "text": [
      "abcabc\n",
      ".py.py.py\n"
     ]
    }
   ],
   "source": [
    "print(larger_string('abc', 2))\n",
    "print(larger_string('.py', 3))"
   ]
  },
  {
   "cell_type": "code",
   "execution_count": 17,
   "id": "0849a353",
   "metadata": {},
   "outputs": [
    {
     "name": "stdout",
     "output_type": "stream",
     "text": [
      "1\n",
      "4\n",
      "8\n",
      "23\n",
      "4\n",
      "7\n"
     ]
    }
   ],
   "source": [
    "find_4=[1,4,8,23,4,7]\n",
    "\n",
    "for i in find_4:\n",
    "    if i not in find_4:\n",
    "        print(i)\n",
    "        break\n",
    "    else:\n",
    "        print(i)\n",
    "        \n",
    "\n",
    "        "
   ]
  },
  {
   "cell_type": "code",
   "execution_count": 15,
   "id": "1bbf7a69",
   "metadata": {},
   "outputs": [
    {
     "data": {
      "text/plain": [
       "[1, 4, 8, 23, 4, 7]"
      ]
     },
     "execution_count": 15,
     "metadata": {},
     "output_type": "execute_result"
    }
   ],
   "source": [
    "find_4"
   ]
  },
  {
   "cell_type": "code",
   "execution_count": 32,
   "id": "b74ad73e",
   "metadata": {},
   "outputs": [],
   "source": [
    "def len_2(text,n):\n",
    "    result=\"\"\n",
    "    for i in range(2):\n",
    "        result=result+text\n",
    "        return result\n",
    "    else:\n",
    "        return n*text\n",
    "        "
   ]
  },
  {
   "cell_type": "code",
   "execution_count": 33,
   "id": "a2497199",
   "metadata": {},
   "outputs": [
    {
     "name": "stdout",
     "output_type": "stream",
     "text": [
      "hello\n"
     ]
    }
   ],
   "source": [
    "print(len_2(\"hello\",3))"
   ]
  },
  {
   "cell_type": "code",
   "execution_count": 63,
   "id": "d6a3c5b6",
   "metadata": {},
   "outputs": [],
   "source": [
    "def vowel(text):\n",
    "    if text[0].upper()==True:\n",
    "        text.lower(text[0])\n",
    "        \n",
    "    if text[0]=='a':\n",
    "            print(\"word is vowel\")\n",
    "    elif text[0]=='e':\n",
    "            print(\"word is vowel\")\n",
    "    elif text[0]=='i':\n",
    "            print(\"word is vowel\")\n",
    "    elif text[0]=='o':\n",
    "            print(\"word is vowel\")\n",
    "    elif text[0]=='u':\n",
    "            print(\"word is vowel\")\n",
    "    else:\n",
    "            print(\"word is not vowel\")\n",
    "    \n",
    "        \n",
    "            \n",
    "            \n",
    "\n"
   ]
  },
  {
   "cell_type": "code",
   "execution_count": 65,
   "id": "cc1ee4ab",
   "metadata": {},
   "outputs": [
    {
     "name": "stdout",
     "output_type": "stream",
     "text": [
      "word is not vowel\n",
      "None\n"
     ]
    }
   ],
   "source": [
    "print(vowel(\"Elephant\"))"
   ]
  },
  {
   "cell_type": "markdown",
   "id": "1535ab04",
   "metadata": {},
   "source": [
    "# 8.5"
   ]
  },
  {
   "cell_type": "code",
   "execution_count": 71,
   "id": "ffabfca0",
   "metadata": {},
   "outputs": [],
   "source": [
    " def describe_city(city,country=1):\n",
    "        return print(f\"{city}  is in {country} \")\n",
    "    \n",
    "        "
   ]
  },
  {
   "cell_type": "code",
   "execution_count": 72,
   "id": "17d1a538",
   "metadata": {},
   "outputs": [
    {
     "name": "stdout",
     "output_type": "stream",
     "text": [
      "karachi  is in 1 \n",
      "delhi  is in india \n",
      "dhaka  is in 1 \n"
     ]
    }
   ],
   "source": [
    "describe_city('karachi',)\n",
    "describe_city('delhi','india')\n",
    "describe_city('dhaka',)"
   ]
  },
  {
   "cell_type": "markdown",
   "id": "02c862bc",
   "metadata": {},
   "source": [
    "# 8.6"
   ]
  },
  {
   "cell_type": "code",
   "execution_count": 73,
   "id": "9f1e785e",
   "metadata": {},
   "outputs": [],
   "source": [
    "def city_country(city,country):\n",
    "    return city,country"
   ]
  },
  {
   "cell_type": "code",
   "execution_count": 75,
   "id": "7dc384ab",
   "metadata": {},
   "outputs": [
    {
     "name": "stdout",
     "output_type": "stream",
     "text": [
      "('islamabad', 'pakistan')\n",
      "('washimton', 'Ameraica')\n",
      "('colombo', 'srilanka')\n"
     ]
    }
   ],
   "source": [
    "print(city_country('islamabad','pakistan'))\n",
    "print(city_country('washimton','Ameraica'))\n",
    "print(city_country('colombo','srilanka'))"
   ]
  },
  {
   "cell_type": "markdown",
   "id": "f56f4aa0",
   "metadata": {},
   "source": [
    "# 8.7"
   ]
  },
  {
   "cell_type": "code",
   "execution_count": 77,
   "id": "421e5d62",
   "metadata": {},
   "outputs": [],
   "source": [
    "def make_album(music_dict,None):\n",
    "    return music_dict\n",
    "\n",
    "    "
   ]
  },
  {
   "cell_type": "code",
   "execution_count": 81,
   "id": "892bf3bf",
   "metadata": {},
   "outputs": [
    {
     "data": {
      "text/plain": [
       "{'For two songs': 'henry frankis',\n",
       " 'Dinner for one': 'javed akhter ',\n",
       " 'Commercial brake': 'joe root'}"
      ]
     },
     "execution_count": 81,
     "metadata": {},
     "output_type": "execute_result"
    }
   ],
   "source": [
    "make_album({'For two songs':'henry frankis','Dinner for one':'javed akhter ','Commercial brake':'joe root'})"
   ]
  },
  {
   "cell_type": "code",
   "execution_count": null,
   "id": "990679b9",
   "metadata": {},
   "outputs": [],
   "source": []
  },
  {
   "cell_type": "code",
   "execution_count": 1,
   "id": "ab1401b6",
   "metadata": {},
   "outputs": [],
   "source": [
    "def show_message(txt):\n",
    "    send_messages=[]\n",
    "    for i in txt:\n",
    "        send_messages.append(i)\n",
    "        print(i)"
   ]
  },
  {
   "cell_type": "code",
   "execution_count": 2,
   "id": "3f5e7201",
   "metadata": {},
   "outputs": [
    {
     "name": "stdout",
     "output_type": "stream",
     "text": [
      "hello\n",
      "have nice day\n",
      "assalaikum\n"
     ]
    }
   ],
   "source": [
    "show_message(['hello','have nice day','assalaikum'])"
   ]
  },
  {
   "cell_type": "code",
   "execution_count": 17,
   "id": "b5fc4949",
   "metadata": {},
   "outputs": [],
   "source": [
    "def send_message(txt):\n",
    "    send_messages=[]\n",
    "    while txt:\n",
    "        new_list=txt.pop()\n",
    "        send_messages.append(new_list)\n",
    "        \n",
    "      \n",
    "    return send_messages"
   ]
  },
  {
   "cell_type": "code",
   "execution_count": 18,
   "id": "4c26b3e9",
   "metadata": {},
   "outputs": [
    {
     "data": {
      "text/plain": [
       "['assalaikum', 'have nice day', 'hello']"
      ]
     },
     "execution_count": 18,
     "metadata": {},
     "output_type": "execute_result"
    }
   ],
   "source": [
    "send_message(['hello','have nice day','assalaikum'])"
   ]
  },
  {
   "cell_type": "code",
   "execution_count": 31,
   "id": "f3ec106f",
   "metadata": {},
   "outputs": [],
   "source": [
    "def sandwichs(provider):\n",
    "    for key,value in provider.items():\n",
    "        print(f\"your order is {key} and your price is {value}\")"
   ]
  },
  {
   "cell_type": "code",
   "execution_count": 32,
   "id": "5ab8702d",
   "metadata": {},
   "outputs": [
    {
     "name": "stdout",
     "output_type": "stream",
     "text": [
      "your order is chees sandwich and your price is 300\n",
      "your order is simple sandwich and your price is 100\n",
      "your order is pepponary sandwich and your price is 500\n"
     ]
    }
   ],
   "source": [
    "sandwichs({'chees sandwich':'300','simple sandwich':'100','pepponary sandwich':'500'})"
   ]
  },
  {
   "cell_type": "code",
   "execution_count": 39,
   "id": "1fdfebba",
   "metadata": {},
   "outputs": [],
   "source": [
    "def built_profile(profile):\n",
    "    for key,value in profile.items():\n",
    "        print(key,\":\",value)\n",
    "    \n",
    "    "
   ]
  },
  {
   "cell_type": "code",
   "execution_count": 40,
   "id": "53502453",
   "metadata": {},
   "outputs": [
    {
     "name": "stdout",
     "output_type": "stream",
     "text": [
      "first_name : Partab\n",
      "last_name : Rai\n",
      "age : 23\n",
      "gender : male\n",
      "contact : 03412646446\n"
     ]
    }
   ],
   "source": [
    "built_profile({'first_name':'Partab','last_name':'Rai','age':'23','gender':'male','contact':'03412646446'})"
   ]
  },
  {
   "cell_type": "code",
   "execution_count": 52,
   "id": "383a3624",
   "metadata": {},
   "outputs": [],
   "source": [
    "def make_car(properties):\n",
    "    return properties"
   ]
  },
  {
   "cell_type": "code",
   "execution_count": 53,
   "id": "71278765",
   "metadata": {},
   "outputs": [
    {
     "name": "stdout",
     "output_type": "stream",
     "text": [
      "{'BMW': '19STR-vxr', 'color': 'black', 'manufactured': 'china'}\n"
     ]
    }
   ],
   "source": [
    "car=make_car({'BMW':'19STR-vxr','color':'black','manufactured':'china'})\n",
    "print(car)"
   ]
  },
  {
   "cell_type": "code",
   "execution_count": null,
   "id": "d0039b2c",
   "metadata": {},
   "outputs": [],
   "source": []
  }
 ],
 "metadata": {
  "kernelspec": {
   "display_name": "Python 3 (ipykernel)",
   "language": "python",
   "name": "python3"
  },
  "language_info": {
   "codemirror_mode": {
    "name": "ipython",
    "version": 3
   },
   "file_extension": ".py",
   "mimetype": "text/x-python",
   "name": "python",
   "nbconvert_exporter": "python",
   "pygments_lexer": "ipython3",
   "version": "3.9.12"
  }
 },
 "nbformat": 4,
 "nbformat_minor": 5
}
